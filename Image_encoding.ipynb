{
 "cells": [
  {
   "cell_type": "code",
   "execution_count": 7,
   "id": "awful-white",
   "metadata": {},
   "outputs": [
    {
     "name": "stdout",
     "output_type": "stream",
     "text": [
      "Python 3.9.4\n"
     ]
    }
   ],
   "source": [
    "!python --version"
   ]
  },
  {
   "cell_type": "code",
   "execution_count": 5,
   "id": "mineral-furniture",
   "metadata": {},
   "outputs": [],
   "source": [
    "import cv2 as cv\n",
    "import numpy as np\n",
    "import matplotlib.pyplot as plt\n"
   ]
  },
  {
   "cell_type": "code",
   "execution_count": 104,
   "id": "fifteen-professional",
   "metadata": {},
   "outputs": [],
   "source": [
    "def encoding(a:str):\n",
    "    \n",
    "    window_name='f'\n",
    "    \n",
    "    frame1=cv.imread(r\"./resources/circle.png\")\n",
    "    frame3=cv.imread(r\"./resources/dot.png\")\n",
    "    frame4=cv.imread(r\"./resources/box.png\")\n",
    "    frame=cv.add(frame4,frame1)\n",
    "    \n",
    "\n",
    "    gray = cv.cvtColor(frame1, cv.COLOR_BGR2GRAY)\n",
    "    gray_box = cv.cvtColor(frame3, cv.COLOR_BGR2GRAY)\n",
    "    a=a[::-1]\n",
    "    length=len(a)\n",
    "    for j in range (length):\n",
    "       \n",
    "        if a[0]=='1':\n",
    "#             x,y= -100,100  \n",
    "            x,y= -100,-100\n",
    "            gray[490+x:510+x, 490+y:510+y] = gray_box\n",
    "            if j+1==length:\n",
    "                break\n",
    "\n",
    "        if a[1]=='1':\n",
    "#             x,y= 100,100\n",
    "            x,y= -100,100\n",
    "            gray[490+x:510+x, 490+y:510+y] = gray_box\n",
    "            if j+2==length:\n",
    "                break\n",
    "        if a[2]=='1':\n",
    "#             x,y= -100,-100\n",
    "            x,y= 100,-100\n",
    "            gray[490+x:510+x, 490+y:510+y] = gray_box\n",
    "            if j+3==length:\n",
    "                break\n",
    "        if a[3]=='1':\n",
    "#             x,y= 100,-100\n",
    "            x,y= 100,100\n",
    "            gray[490+x:510+x, 490+y:510+y] = gray_box\n",
    "\n",
    "        if j+4==length:\n",
    "                break            \n",
    "    plt.imshow(gray)       \n",
    "#     cv.imshow(window_name,frame0)\n",
    "#     key=cv.waitKey(1)\n",
    "#     if key==27:\n",
    "# #         break\n",
    "#     cv.destroyAllWindows()\n",
    "            "
   ]
  },
  {
   "cell_type": "code",
   "execution_count": 112,
   "id": "welsh-balance",
   "metadata": {},
   "outputs": [],
   "source": [
    "def input_fn(a)->str:\n",
    "    k=len(str(a))\n",
    "\n",
    "    try:\n",
    "        if k<=4:\n",
    "            a=(4-k)*'0'+a\n",
    "            \n",
    "            for i in range(len(str(a))):\n",
    "                \n",
    "                if a[i]== '0' or a[i]== '1':\n",
    "                    continue\n",
    "                else:\n",
    "                    raise Exception(\"Wrong Number\")\n",
    "            print(\"The Entered Number is: \",a,' below is the code for the position')\n",
    "            return str(a)\n",
    "    except Exception as excp:\n",
    "        print(excp)\n",
    "#         print(\"Entered wrong Number\")\n",
    "    finally:\n",
    "        pass\n",
    "#         print(\"Enter another number if you want to try more\")"
   ]
  },
  {
   "cell_type": "code",
   "execution_count": 113,
   "id": "confident-greeting",
   "metadata": {},
   "outputs": [
    {
     "name": "stdin",
     "output_type": "stream",
     "text": [
      " 100\n"
     ]
    },
    {
     "name": "stdout",
     "output_type": "stream",
     "text": [
      "The Entered Number is:  0100  below is the code for the position\n"
     ]
    },
    {
     "data": {
      "image/png": "[encoded data removed]",
      "text/plain": [
       "<Figure size 432x288 with 1 Axes>"
      ]
     },
     "metadata": {
      "needs_background": "light"
     },
     "output_type": "display_data"
    }
   ],
   "source": [
    "if __name__=='__main__':\n",
    "    a=input()\n",
    "    ans=input_fn(a)\n",
    "    encoding(ans)\n",
    "    "
   ]
  },
  {
   "cell_type": "markdown",
   "id": "essential-fairy",
   "metadata": {},
   "source": [
    "### Conclusion:\n",
    "\n",
    "\n",
    "Encoding of binary system according to the asked format."
   ]
  },
  {
   "cell_type": "code",
   "execution_count": null,
   "id": "clean-breeding",
   "metadata": {},
   "outputs": [],
   "source": []
  }
 ],
 "metadata": {
  "kernelspec": {
   "display_name": "Python 3",
   "language": "python",
   "name": "python3"
  },
  "language_info": {
   "codemirror_mode": {
    "name": "ipython",
    "version": 3
   },
   "file_extension": ".py",
   "mimetype": "text/x-python",
   "name": "python",
   "nbconvert_exporter": "python",
   "pygments_lexer": "ipython3",
   "version": "3.7.7"
  }
 },
 "nbformat": 4,
 "nbformat_minor": 5
}
