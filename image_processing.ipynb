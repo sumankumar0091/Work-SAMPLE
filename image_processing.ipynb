{
 "cells": [
  {
   "cell_type": "code",
   "execution_count": 1,
   "id": "unnecessary-charleston",
   "metadata": {},
   "outputs": [],
   "source": [
    "import cv2\n",
    "import imutils\n",
    "import numpy as np\n",
    "from matplotlib import pyplot as plt"
   ]
  },
  {
   "cell_type": "code",
   "execution_count": 2,
   "id": "running-implement",
   "metadata": {},
   "outputs": [],
   "source": [
    "img = cv2.imread(\"./resources/10.png\")"
   ]
  },
  {
   "cell_type": "code",
   "execution_count": 3,
   "id": "double-tender",
   "metadata": {},
   "outputs": [],
   "source": [
    "img_gray = cv2.cvtColor(img, cv2.COLOR_BGR2GRAY)\n",
    "img_rgb = cv2.cvtColor(img, cv2.COLOR_BGR2RGB)"
   ]
  },
  {
   "cell_type": "code",
   "execution_count": 4,
   "id": "cooperative-leisure",
   "metadata": {},
   "outputs": [
    {
     "data": {
      "image/png": "[encoded data removed]",
      "text/plain": [
       "<Figure size 432x288 with 1 Axes>"
      ]
     },
     "metadata": {
      "needs_background": "light"
     },
     "output_type": "display_data"
    }
   ],
   "source": [
    "plt.subplot(1,1,1)\n",
    "plt.imshow(img_gray)\n",
    "plt.show()"
   ]
  },
  {
   "cell_type": "code",
   "execution_count": 5,
   "id": "banned-sector",
   "metadata": {},
   "outputs": [],
   "source": [
    "## Using detectMultiScale() function\n",
    "## Will explore this approach later. Requires training a classifier to detect certain shapes"
   ]
  },
  {
   "cell_type": "markdown",
   "id": "noted-substance",
   "metadata": {},
   "source": [
    "#### ATTEMPT 1"
   ]
  },
  {
   "cell_type": "markdown",
   "id": "joint-chapter",
   "metadata": {},
   "source": [
    "##### Using countours for object detection: Ref https://www.pyimagesearch.com/2016/02/08/opencv-shape-detection/"
   ]
  },
  {
   "cell_type": "markdown",
   "id": "behind-meter",
   "metadata": {},
   "source": [
    "##### Note: Unsuccessful attempt in detecting square shapes. Might need to revisit later"
   ]
  },
  {
   "cell_type": "code",
   "execution_count": 7,
   "id": "complex-panel",
   "metadata": {},
   "outputs": [],
   "source": [
    "blurred = cv2.GaussianBlur(img_gray, (5, 5), 0)\n",
    "thresh = cv2.threshold(blurred, 60, 255, cv2.THRESH_BINARY)[1]"
   ]
  },
  {
   "cell_type": "code",
   "execution_count": 8,
   "id": "vocational-riverside",
   "metadata": {},
   "outputs": [
    {
     "data": {
      "text/plain": [
       "<matplotlib.image.AxesImage at 0x1196741f0>"
      ]
     },
     "execution_count": 8,
     "metadata": {},
     "output_type": "execute_result"
    },
    {
     "data": {
      "image/png": "[encoded data removed]",
      "text/plain": [
       "<Figure size 432x288 with 1 Axes>"
      ]
     },
     "metadata": {
      "needs_background": "light"
     },
     "output_type": "display_data"
    }
   ],
   "source": [
    "plt.imshow(thresh)"
   ]
  },
  {
   "cell_type": "code",
   "execution_count": 9,
   "id": "beginning-israel",
   "metadata": {},
   "outputs": [],
   "source": [
    "cnts = cv2.findContours(img_gray, cv2.RETR_EXTERNAL, cv2.CHAIN_APPROX_SIMPLE)"
   ]
  },
  {
   "cell_type": "code",
   "execution_count": 10,
   "id": "subject-faith",
   "metadata": {},
   "outputs": [],
   "source": [
    "cnts = imutils.grab_contours(cnts)"
   ]
  },
  {
   "cell_type": "code",
   "execution_count": 11,
   "id": "desperate-steel",
   "metadata": {},
   "outputs": [],
   "source": [
    "def detect(c):\n",
    "    # initialize the shape name and approximate the contour\n",
    "    shape = \"unidentified\"\n",
    "    peri = cv2.arcLength(c, True)\n",
    "    approx = cv2.approxPolyDP(c, 0.04 * peri, True)\n",
    "    \n",
    "    # if the shape is a triangle, it will have 3 vertices\n",
    "    if len(approx) == 3:\n",
    "        shape = \"triangle\"\n",
    "    # if the shape has 4 vertices, it is either a square or\n",
    "    # a rectangle\n",
    "    elif len(approx) == 4:\n",
    "        # compute the bounding box of the contour and use the\n",
    "        # bounding box to compute the aspect ratio\n",
    "        (x, y, w, h) = cv2.boundingRect(approx)\n",
    "        ar = w / float(h)\n",
    "        # a square will have an aspect ratio that is approximately\n",
    "        # equal to one, otherwise, the shape is a rectangle\n",
    "        shape = \"square\" if ar >= 0.95 and ar <= 1.05 else \"rectangle\"\n",
    "    # if the shape is a pentagon, it will have 5 vertices\n",
    "    elif len(approx) == 5:\n",
    "        shape = \"pentagon\"\n",
    "    # otherwise, we assume the shape is a circle\n",
    "    else:\n",
    "        shape = \"circle\"\n",
    "    # return the name of the shape\n",
    "    return shape"
   ]
  },
  {
   "cell_type": "code",
   "execution_count": null,
   "id": "sporting-forest",
   "metadata": {},
   "outputs": [],
   "source": [
    "# loop over the contours\n",
    "for c in cnts:\n",
    "    break\n",
    "    # compute the center of the contour, then detect the name of the\n",
    "    # shape using only the contour\n",
    "    M = cv2.moments(c)\n",
    "    cX = int((M[\"m10\"] / M[\"m00\"]))\n",
    "    cY = int((M[\"m01\"] / M[\"m00\"]))\n",
    "    shape = detect(c)\n",
    "    # multiply the contour (x, y)-coordinates by the resize ratio,\n",
    "    # then draw the contours and the name of the shape on the image\n",
    "    c = c.astype(\"float\")\n",
    "    c = c.astype(\"int\")\n",
    "    cv2.drawContours(img, [c], -1, (0, 255, 0), 2)\n",
    "    cv2.putText(img, shape, (cX, cY), cv2.FONT_HERSHEY_SIMPLEX,\n",
    "    0.5, (255, 255, 255), 2)\n",
    "    # show the output image\n",
    "    cv2.imshow(\"Image\", img)\n",
    "    cv2.waitKey(0)"
   ]
  },
  {
   "cell_type": "markdown",
   "id": "creative-chuck",
   "metadata": {},
   "source": [
    "#### ATTEMPT 2: "
   ]
  },
  {
   "cell_type": "markdown",
   "id": "tribal-search",
   "metadata": {},
   "source": [
    "#### Object Detection and Object Tracking using HSV color space"
   ]
  },
  {
   "cell_type": "code",
   "execution_count": 4,
   "id": "worldwide-blank",
   "metadata": {},
   "outputs": [],
   "source": [
    "def nothing(x):\n",
    "    pass"
   ]
  },
  {
   "cell_type": "code",
   "execution_count": 3,
   "id": "conceptual-wells",
   "metadata": {},
   "outputs": [
    {
     "name": "stdout",
     "output_type": "stream",
     "text": [
      "[50  0  0]\n"
     ]
    }
   ],
   "source": [
    "# while True:\n",
    "frame = cv2.imread('resources/10.png')\n",
    "\n",
    "hsv = cv2.cvtColor(frame, cv2.COLOR_BGR2HSV)\n",
    "\n",
    "#     hsv(140,100,100)\n",
    "l_g = np.array([50, 0, 0])\n",
    "u_g = np.array([255, 255,255])\n",
    "\n",
    "#     l_h = cv2.getTrackbarPos(\"LH\", \"Tracking\")\n",
    "#     l_s = cv2.getTrackbarPos(\"LS\", \"Tracking\")\n",
    "#     l_v = cv2.getTrackbarPos(\"LV\", \"Tracking\")\n",
    "\n",
    "#     u_h = cv2.getTrackbarPos(\"UH\", \"Tracking\")\n",
    "#     u_s = cv2.getTrackbarPos(\"US\", \"Tracking\")\n",
    "#     u_v = cv2.getTrackbarPos(\"UV\", \"Tracking\")\n",
    "\n",
    "# l_g = np.array([l_h, l_s, l_v])\n",
    "# u_g = np.array([u_h, u_s, u_v])\n",
    "\n",
    "print(l_g)\n",
    "\n",
    "\n",
    "mask = cv2.inRange(hsv, l_g, u_g)\n",
    "# mask = cv2.imread('resources/10.png',-1)\n",
    "\n",
    "res = cv2.bitwise_and(frame, frame, mask=mask)\n",
    "\n",
    "cv2.imshow(\"frame\", frame)\n",
    "cv2.imshow(\"mask\", mask)\n",
    "cv2.imshow(\"res\", res)\n",
    "\n",
    "key = cv2.waitKey(1)\n",
    "\n",
    "# if key == 27:\n",
    "#     break\n",
    "    \n",
    "cv2.destroyAllWindows()"
   ]
  },
  {
   "cell_type": "markdown",
   "id": "mediterranean-coordination",
   "metadata": {},
   "source": [
    "### Attempt 3"
   ]
  },
  {
   "cell_type": "markdown",
   "id": "tutorial-patch",
   "metadata": {},
   "source": [
    "##### Ref: http://www.learningaboutelectronics.com/Articles/How-to-find-the-x-and-y-coordinates-of-an-object-in-an-image-Python-OpenCV.php"
   ]
  },
  {
   "cell_type": "code",
   "execution_count": 4,
   "id": "laden-earth",
   "metadata": {},
   "outputs": [],
   "source": [
    "import cv2\n",
    "import matplotlib.pyplot as plt"
   ]
  },
  {
   "cell_type": "code",
   "execution_count": 5,
   "id": "collected-flight",
   "metadata": {},
   "outputs": [],
   "source": [
    "image = cv2.imread('resources/10.png')"
   ]
  },
  {
   "cell_type": "code",
   "execution_count": 7,
   "id": "entertaining-playlist",
   "metadata": {},
   "outputs": [],
   "source": [
    "gray = cv2.cvtColor(image, cv2.COLOR_BGR2GRAY)"
   ]
  },
  {
   "cell_type": "code",
   "execution_count": 33,
   "id": "gentle-draft",
   "metadata": {},
   "outputs": [],
   "source": [
    "edges = cv2.Canny(gray, 10, 10)"
   ]
  },
  {
   "cell_type": "code",
   "execution_count": 34,
   "id": "bronze-welding",
   "metadata": {},
   "outputs": [
    {
     "data": {
      "text/plain": [
       "1000"
      ]
     },
     "execution_count": 34,
     "metadata": {},
     "output_type": "execute_result"
    }
   ],
   "source": [
    "len(edges)"
   ]
  },
  {
   "cell_type": "code",
   "execution_count": 35,
   "id": "resident-background",
   "metadata": {},
   "outputs": [],
   "source": [
    "contours, hierarchy = cv2.findContours(edges.copy(), cv2.RETR_EXTERNAL, cv2.CHAIN_APPROX_NONE)"
   ]
  },
  {
   "cell_type": "code",
   "execution_count": 36,
   "id": "hundred-quebec",
   "metadata": {},
   "outputs": [],
   "source": [
    "sorted_contours = sorted(contours, key= cv2.contourArea, reverse=False)"
   ]
  },
  {
   "cell_type": "code",
   "execution_count": 40,
   "id": "practical-trade",
   "metadata": {},
   "outputs": [],
   "source": [
    "smallest_item = sorted_contours[0]"
   ]
  },
  {
   "cell_type": "code",
   "execution_count": 39,
   "id": "ideal-activity",
   "metadata": {},
   "outputs": [],
   "source": [
    "smallest_item_2 = sorted_contours[1]"
   ]
  },
  {
   "cell_type": "code",
   "execution_count": 41,
   "id": "sacred-fundamental",
   "metadata": {},
   "outputs": [],
   "source": [
    "M = cv2.moments(smallest_item)"
   ]
  },
  {
   "cell_type": "code",
   "execution_count": 42,
   "id": "described-circumstances",
   "metadata": {},
   "outputs": [],
   "source": [
    "x,y,w,h = cv2.boundingRect(smallest_item)"
   ]
  },
  {
   "cell_type": "code",
   "execution_count": 44,
   "id": "painful-herald",
   "metadata": {},
   "outputs": [],
   "source": [
    "x1 = x\n",
    "x2 = x + w\n",
    "# xcoordinate_center = int(M['m10']/M['m00'])"
   ]
  },
  {
   "cell_type": "code",
   "execution_count": 46,
   "id": "accredited-haiti",
   "metadata": {},
   "outputs": [],
   "source": [
    "y1 = y\n",
    "x2 = y + h\n",
    "# ycoordinate_center = int(M['m10']/M['m00'])"
   ]
  },
  {
   "cell_type": "code",
   "execution_count": 47,
   "id": "remarkable-moldova",
   "metadata": {},
   "outputs": [
    {
     "name": "stdout",
     "output_type": "stream",
     "text": [
      "Smaller Box\n",
      "x coordinate 1:  99\n",
      "x coordinate 2:  901\n",
      "x center coordinate  499\n",
      "\n"
     ]
    }
   ],
   "source": [
    "print (\"Box 1\")\n",
    "\n",
    "print(\"x coordinate 1: \", str(x1))\n",
    "\n",
    "print(\"x coordinate 2: \", str(x2))\n",
    "\n",
    "print(\"x center coordinate \", str(xcoordinate_center))\n",
    "\n",
    "print (\"\")"
   ]
  },
  {
   "cell_type": "code",
   "execution_count": 121,
   "id": "precise-cookbook",
   "metadata": {},
   "outputs": [
    {
     "data": {
      "image/png": "[encoded data removed]",
      "text/plain": [
       "<Figure size 432x288 with 1 Axes>"
      ]
     },
     "metadata": {
      "needs_background": "light"
     },
     "output_type": "display_data"
    },
    {
     "name": "stdout",
     "output_type": "stream",
     "text": [
      "(400, 400)\n"
     ]
    }
   ],
   "source": [
    "plt.imshow(gray)\n",
    "plt.show()\n",
    "print(gray.shape)"
   ]
  },
  {
   "cell_type": "code",
   "execution_count": 1,
   "id": "lesser-coating",
   "metadata": {},
   "outputs": [],
   "source": [
    "import cv2\n",
    "import matplotlib.pyplot as plt\n",
    "\n",
    "# eg. img_path = 'resources/10.png'\n",
    "\n",
    "def get_boxes(img_path):\n",
    "    \n",
    "    boxes = []\n",
    "\n",
    "    image = cv2.imread(img_path)\n",
    "\n",
    "    gray = cv2.cvtColor(image, cv2.COLOR_BGR2GRAY)\n",
    "\n",
    "    gray = gray[300:700, 300:700]\n",
    "    \n",
    "    (a, b) = gray.shape\n",
    "    origin = (a/2, b/2)\n",
    "\n",
    "    edges = cv2.Canny(gray, 50,200)\n",
    "\n",
    "    contours, hierarchy = cv2.findContours(edges.copy(), cv2.RETR_EXTERNAL, cv2.CHAIN_APPROX_NONE)\n",
    "\n",
    "    sorted_contours = sorted(contours, key= cv2.contourArea, reverse=False)\n",
    "\n",
    "    print(\"num contours\", len(contours))\n",
    "\n",
    "    fig = plt.figure(figsize=(10, 7))\n",
    "\n",
    "    rows = 1\n",
    "    columns= len(contours)\n",
    "\n",
    "    for idx in range(len(contours)):\n",
    "        item = sorted_contours[idx]\n",
    "\n",
    "        M = cv2.moments(item)\n",
    "        x,y,w,h = cv2.boundingRect(item)\n",
    "\n",
    "        x1 = x\n",
    "        x2 = x + w\n",
    "    #     xcoordinate_center = int(M['m10']/M['m00'])\n",
    "\n",
    "        y1 = y\n",
    "        y2 = y + h\n",
    "    #     ycoordinate_center = int(M['m10']/M['m00'])\n",
    "\n",
    "        roi = gray[y1:y2, x1:x2]\n",
    "\n",
    "        ax = fig.add_subplot(rows, columns, idx + 1)\n",
    "        print(f'v1: {(x1,y1)}, v2: {(x2,y2)}')\n",
    "        plt.imshow(roi)\n",
    "        plt.show()\n",
    "\n",
    "        if (x2 - x1) < 25 and (y2 - y1) < 25:\n",
    "            boxes.append(((x1,y1), (x2,y2)))\n",
    "\n",
    "\n",
    "    print((boxes, origin))\n",
    "    \n",
    "    return (boxes, origin)"
   ]
  },
  {
   "cell_type": "code",
   "execution_count": 2,
   "id": "treated-things",
   "metadata": {},
   "outputs": [],
   "source": [
    "def get_quadrant_for_box(box, origin):\n",
    "    (x, y) = box[0]\n",
    "    (x0, y0) = origin\n",
    "    \n",
    "    if x < x0:\n",
    "        if y < y0:\n",
    "            return 0\n",
    "        else: \n",
    "            return 2\n",
    "    else:\n",
    "        if y < y0:\n",
    "            return 1\n",
    "        else:\n",
    "            return 3\n",
    "    "
   ]
  },
  {
   "cell_type": "code",
   "execution_count": 3,
   "id": "floating-chicago",
   "metadata": {},
   "outputs": [],
   "source": [
    "def quadrants_for_boxes(boxes, origin):\n",
    "    quadrants = []\n",
    "    for box in boxes:\n",
    "        quadrant = get_quadrant_for_box(box, origin)\n",
    "        quadrants.append(quadrant)\n",
    "    \n",
    "    return quadrants"
   ]
  },
  {
   "cell_type": "code",
   "execution_count": 4,
   "id": "front-peace",
   "metadata": {},
   "outputs": [],
   "source": [
    "def get_encoding(quadrants):\n",
    "    code = 0\n",
    "    \n",
    "    for x in quadrants:\n",
    "        code = code | 1 << (3-x)\n",
    "    \n",
    "    return format(code, \"04b\")"
   ]
  },
  {
   "cell_type": "code",
   "execution_count": 5,
   "id": "ancient-soccer",
   "metadata": {},
   "outputs": [
    {
     "name": "stdout",
     "output_type": "stream",
     "text": [
      "num contours 4\n",
      "v1: (220, 220), v2: (400, 400)\n"
     ]
    },
    {
     "data": {
      "image/png": "[encoded data removed]",
      "text/plain": [
       "<Figure size 720x504 with 1 Axes>"
      ]
     },
     "metadata": {
      "needs_background": "light"
     },
     "output_type": "display_data"
    },
    {
     "name": "stdout",
     "output_type": "stream",
     "text": [
      "v1: (0, 0), v2: (400, 400)\n"
     ]
    },
    {
     "data": {
      "image/png": "[encoded data removed]",
      "text/plain": [
       "<Figure size 432x288 with 1 Axes>"
      ]
     },
     "metadata": {
      "needs_background": "light"
     },
     "output_type": "display_data"
    },
    {
     "name": "stdout",
     "output_type": "stream",
     "text": [
      "v1: (79, 299), v2: (100, 320)\n"
     ]
    },
    {
     "data": {
      "image/png": "[encoded data removed]",
      "text/plain": [
       "<Figure size 432x288 with 1 Axes>"
      ]
     },
     "metadata": {
      "needs_background": "light"
     },
     "output_type": "display_data"
    },
    {
     "name": "stdout",
     "output_type": "stream",
     "text": [
      "v1: (79, 79), v2: (100, 100)\n"
     ]
    },
    {
     "data": {
      "image/png": "[encoded data removed]",
      "text/plain": [
       "<Figure size 432x288 with 1 Axes>"
      ]
     },
     "metadata": {
      "needs_background": "light"
     },
     "output_type": "display_data"
    },
    {
     "name": "stdout",
     "output_type": "stream",
     "text": [
      "([((79, 299), (100, 320)), ((79, 79), (100, 100))], (200.0, 200.0))\n"
     ]
    }
   ],
   "source": [
    "img_path = 'resources/10.png'\n",
    "\n",
    "(boxes, origin) = get_boxes(img_path)"
   ]
  },
  {
   "cell_type": "code",
   "execution_count": 148,
   "id": "typical-toolbox",
   "metadata": {},
   "outputs": [
    {
     "data": {
      "text/plain": [
       "[2, 0]"
      ]
     },
     "execution_count": 148,
     "metadata": {},
     "output_type": "execute_result"
    }
   ],
   "source": [
    "quadrants = quadrants_for_boxes(boxes, origin)\n",
    "quadrants"
   ]
  },
  {
   "cell_type": "code",
   "execution_count": 170,
   "id": "democratic-fifty",
   "metadata": {},
   "outputs": [
    {
     "data": {
      "text/plain": [
       "'1111'"
      ]
     },
     "execution_count": 170,
     "metadata": {},
     "output_type": "execute_result"
    }
   ],
   "source": [
    "quadrants = [0,1,2,3]\n",
    "code = get_encoding(quadrants)\n",
    "code"
   ]
  },
  {
   "cell_type": "code",
   "execution_count": 176,
   "id": "caroline-match",
   "metadata": {},
   "outputs": [
    {
     "data": {
      "text/plain": [
       "'1000'"
      ]
     },
     "execution_count": 176,
     "metadata": {},
     "output_type": "execute_result"
    }
   ],
   "source": [
    "num=0\n",
    "num = num | 1 << 3 - 0 \n",
    "format(num, \"04b\")"
   ]
  },
  {
   "cell_type": "code",
   "execution_count": 177,
   "id": "bored-picture",
   "metadata": {},
   "outputs": [
    {
     "data": {
      "text/plain": [
       "'1100'"
      ]
     },
     "execution_count": 177,
     "metadata": {},
     "output_type": "execute_result"
    }
   ],
   "source": [
    "num = num | 1 << 3 - 1 \n",
    "format(num, \"04b\")"
   ]
  },
  {
   "cell_type": "code",
   "execution_count": 178,
   "id": "outdoor-virgin",
   "metadata": {},
   "outputs": [
    {
     "data": {
      "text/plain": [
       "'1110'"
      ]
     },
     "execution_count": 178,
     "metadata": {},
     "output_type": "execute_result"
    }
   ],
   "source": [
    "num = num | 1 << 3 - 2 \n",
    "format(num, \"04b\")"
   ]
  },
  {
   "cell_type": "code",
   "execution_count": 180,
   "id": "herbal-texture",
   "metadata": {},
   "outputs": [
    {
     "data": {
      "text/plain": [
       "'1111'"
      ]
     },
     "execution_count": 180,
     "metadata": {},
     "output_type": "execute_result"
    }
   ],
   "source": [
    "num = num | 1 << 3 - 3\n",
    "format(num, \"04b\")"
   ]
  },
  {
   "cell_type": "code",
   "execution_count": null,
   "id": "directed-invention",
   "metadata": {},
   "outputs": [],
   "source": []
  }
 ],
 "metadata": {
  "kernelspec": {
   "display_name": "Python 3",
   "language": "python",
   "name": "python3"
  },
  "language_info": {
   "codemirror_mode": {
    "name": "ipython",
    "version": 3
   },
   "file_extension": ".py",
   "mimetype": "text/x-python",
   "name": "python",
   "nbconvert_exporter": "python",
   "pygments_lexer": "ipython3",
   "version": "3.7.7"
  }
 },
 "nbformat": 4,
 "nbformat_minor": 5
}
