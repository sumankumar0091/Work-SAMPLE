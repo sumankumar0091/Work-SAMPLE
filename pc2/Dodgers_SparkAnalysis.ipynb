{
 "cells": [
  {
   "cell_type": "markdown",
   "metadata": {},
   "source": [
    "\n",
    "Name: Suman Kumar Sahu\n",
    "\n",
    "Objective:\n",
    "\n",
    "Status:\n",
    "###### Dataset: 'https://drive.google.com/drive/folders/0BzquUESTxeglWElscTF0Q19UTUU'"
   ]
  },
  {
   "cell_type": "code",
   "execution_count": 1,
   "metadata": {},
   "outputs": [],
   "source": [
    "from pyspark import SparkContext"
   ]
  },
  {
   "cell_type": "code",
   "execution_count": 2,
   "metadata": {},
   "outputs": [],
   "source": [
    "#ReduceBy Key and # CombineBy Key"
   ]
  },
  {
   "cell_type": "code",
   "execution_count": 7,
   "metadata": {},
   "outputs": [],
   "source": [
    "path=\"/home/titan/dataset/dodgers/Dodgers.data\"\n",
    "gamesfile=\"/home/titan/dataset/dodgers/Dodgers.events\""
   ]
  },
  {
   "cell_type": "code",
   "execution_count": 6,
   "metadata": {},
   "outputs": [
    {
     "data": {
      "text/plain": [
       "['4/10/2005 0:00,-1',\n",
       " '4/10/2005 0:05,-1',\n",
       " '4/10/2005 0:10,-1',\n",
       " '4/10/2005 0:15,-1']"
      ]
     },
     "execution_count": 6,
     "metadata": {},
     "output_type": "execute_result"
    }
   ],
   "source": [
    "traffic=sc.textFile(path)\n",
    "traffic.take(4)"
   ]
  },
  {
   "cell_type": "code",
   "execution_count": 8,
   "metadata": {},
   "outputs": [
    {
     "data": {
      "text/plain": [
       "['04/12/05,13:10:00,16:23:00,55892,San Francisco,W 9-8�',\n",
       " '04/13/05,19:10:00,21:48:00,46514,San Francisco,W 4-1�',\n",
       " '04/15/05,19:40:00,21:48:00,51816,San Diego,W 4-0�',\n",
       " '04/16/05,19:10:00,21:52:00,54704,San Diego,W 8-3�']"
      ]
     },
     "execution_count": 8,
     "metadata": {},
     "output_type": "execute_result"
    }
   ],
   "source": [
    "games=sc.textFile(gamesfile)\n",
    "games.take(4)"
   ]
  },
  {
   "cell_type": "code",
   "execution_count": 15,
   "metadata": {},
   "outputs": [],
   "source": [
    "from datetime import datetime\n",
    "import csv\n",
    "\n",
    "\n",
    "def parseTraffic(row):\n",
    "    Date_FMT=\"%m/%d/%Y %H:%M\"\n",
    "    row=row.split(\",\")\n",
    "    row[0]=datetime.strptime(row[0],DATE_FMT)\n",
    "    row[1]=int(row[1])\n",
    "    return (row[0],row[1])\n",
    "    "
   ]
  },
  {
   "cell_type": "code",
   "execution_count": 17,
   "metadata": {},
   "outputs": [],
   "source": [
    "trafficparsed= traffic.map(parseTraffic).collectAsMap"
   ]
  },
  {
   "cell_type": "code",
   "execution_count": 22,
   "metadata": {},
   "outputs": [
    {
     "data": {
      "text/plain": [
       "<bound method RDD.collectAsMap of PythonRDD[9] at RDD at PythonRDD.scala:53>"
      ]
     },
     "execution_count": 22,
     "metadata": {},
     "output_type": "execute_result"
    }
   ],
   "source": [
    "trafficparsed\n",
    "\n"
   ]
  },
  {
   "cell_type": "code",
   "execution_count": null,
   "metadata": {},
   "outputs": [],
   "source": []
  }
 ],
 "metadata": {
  "kernelspec": {
   "display_name": "Python 3",
   "language": "python",
   "name": "python3"
  },
  "language_info": {
   "codemirror_mode": {
    "name": "ipython",
    "version": 3
   },
   "file_extension": ".py",
   "mimetype": "text/x-python",
   "name": "python",
   "nbconvert_exporter": "python",
   "pygments_lexer": "ipython3",
   "version": "3.7.3"
  }
 },
 "nbformat": 4,
 "nbformat_minor": 2
}
