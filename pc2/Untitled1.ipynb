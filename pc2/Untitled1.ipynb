{
 "cells": [
  {
   "cell_type": "markdown",
   "metadata": {},
   "source": [
    "Name: Suman Kumar Sahu\n",
    "\n",
    "Purpose: Learn Basic statistical moment for data interpretation\n",
    "\n",
    "Platform: Coursera"
   ]
  },
  {
   "cell_type": "markdown",
   "metadata": {},
   "source": [
    "mean:\n",
    "\n",
    "median: allows to avoid outliers (hence it is outlier resistant)"
   ]
  },
  {
   "cell_type": "code",
   "execution_count": 10,
   "metadata": {},
   "outputs": [
    {
     "name": "stdout",
     "output_type": "stream",
     "text": [
      "4.5\n"
     ]
    }
   ],
   "source": [
    "rdd=sc.parallelize(range(10))\n",
    "# rdd=sc.parallelize([11]+range(10)) : this works in the course lecture\n",
    "\n",
    "sum=rdd.sum()\n",
    "n=rdd.count()\n",
    "mean=sum/n\n",
    "print(mean)"
   ]
  },
  {
   "cell_type": "code",
   "execution_count": 15,
   "metadata": {},
   "outputs": [
    {
     "data": {
      "text/plain": [
       "[0, 1, 2, 3, 4, 5, 6, 7, 8, 9]"
      ]
     },
     "execution_count": 15,
     "metadata": {},
     "output_type": "execute_result"
    }
   ],
   "source": [
    "rdd.collect()\n",
    "rdd.sortBy(lambda x:x).collect()\n",
    "# rdd.sortBy(lambda x:x).zipWithIndex().map(lambda (value,key) : (key,value), rdd(value,key)).collect()\n",
    "#note different lambda use and also combining data with index\n",
    "\n",
    "# if collect statement is not used the output is not printed"
   ]
  },
  {
   "cell_type": "code",
   "execution_count": null,
   "metadata": {},
   "outputs": [],
   "source": []
  },
  {
   "cell_type": "code",
   "execution_count": null,
   "metadata": {},
   "outputs": [],
   "source": []
  },
  {
   "cell_type": "code",
   "execution_count": null,
   "metadata": {},
   "outputs": [],
   "source": []
  },
  {
   "cell_type": "code",
   "execution_count": null,
   "metadata": {},
   "outputs": [],
   "source": []
  },
  {
   "cell_type": "markdown",
   "metadata": {},
   "source": [
    "Standard Deviation: how wide data are spread out"
   ]
  },
  {
   "cell_type": "code",
   "execution_count": 16,
   "metadata": {},
   "outputs": [],
   "source": [
    "from math import sqrt"
   ]
  },
  {
   "cell_type": "code",
   "execution_count": 17,
   "metadata": {},
   "outputs": [
    {
     "data": {
      "text/plain": [
       "2.8722813232690143"
      ]
     },
     "execution_count": 17,
     "metadata": {},
     "output_type": "execute_result"
    }
   ],
   "source": [
    "sqrt(rdd.map(lambda x:pow(x-mean,2)).sum()/n)"
   ]
  },
  {
   "cell_type": "markdown",
   "metadata": {},
   "source": [
    "Skewness and Kurtosis:\n",
    "\n",
    "Tail on RHS:Positive Skew and vice-vera\n",
    "\n",
    "\n",
    "skewness: cubic power\n",
    "\n",
    "Tells about the varation of data\n",
    "\n",
    "\n",
    "kurtosis:relative number of outliers content\n",
    "Shape of data. Higher kurtosis= longer the tail of the hostogram\n",
    "\n",
    "\n",
    "fourth power"
   ]
  },
  {
   "cell_type": "markdown",
   "metadata": {},
   "source": [
    "#### Co variance and correlation"
   ]
  },
  {
   "cell_type": "markdown",
   "metadata": {},
   "source": [
    "how two col interact with eachother \n",
    "\n",
    "measure of depencence \n",
    "\n",
    "corrlation between multiple cols:correlation matrix"
   ]
  },
  {
   "cell_type": "code",
   "execution_count": null,
   "metadata": {},
   "outputs": [],
   "source": []
  }
 ],
 "metadata": {
  "kernelspec": {
   "display_name": "Python 3",
   "language": "python",
   "name": "python3"
  },
  "language_info": {
   "codemirror_mode": {
    "name": "ipython",
    "version": 3
   },
   "file_extension": ".py",
   "mimetype": "text/x-python",
   "name": "python",
   "nbconvert_exporter": "python",
   "pygments_lexer": "ipython3",
   "version": "3.7.6"
  }
 },
 "nbformat": 4,
 "nbformat_minor": 4
}
